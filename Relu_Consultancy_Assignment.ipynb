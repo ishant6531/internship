{
 "cells": [
  {
   "cell_type": "code",
   "execution_count": 1,
   "id": "263f212f",
   "metadata": {},
   "outputs": [],
   "source": [
    "# Loading all the libraries \n",
    "\n",
    "from  selenium import webdriver\n",
    "from time import sleep\n",
    "import warnings\n",
    "warnings.filterwarnings('ignore')\n",
    "import time\n",
    "import string\n",
    "from selenium.common.exceptions import StaleElementReferenceException, NoSuchElementException\n",
    "from datetime import date\n",
    "from bs4 import BeautifulSoup\n",
    "from selenium.webdriver.support.ui import WebDriverWait\n",
    "from selenium.webdriver.support import expected_conditions as EC\n",
    "from selenium.webdriver.common.by import By"
   ]
  },
  {
   "cell_type": "code",
   "execution_count": 2,
   "id": "2e9685af",
   "metadata": {},
   "outputs": [],
   "source": [
    "# Loading the chrome driver \n",
    "from selenium import webdriver\n",
    "from selenium.webdriver.chrome.options import Options\n",
    "\n",
    "options = Options()\n",
    "#options.add_argument('--no-sandbox') # Bypass OS security model\n",
    "#options.add_argument('--headless')\n",
    "options.add_argument(\"user-agent=Mozilla/5.0 (Windows NT 6.1; Win64; x64) AppleWebKit/537.36 (KHTML, like Gecko) Chrome/84.0.4147.125 Safari/537.36\")\n",
    "driver = webdriver.Chrome(chrome_options=options, executable_path=r'D:\\data science\\Ineuron\\chromedriver\\chromedriver.exe')\n",
    "#driver=webdriver.Chrome(r\"C:\\Users\\thunderbolt\\sof1\\chromedriver.exe\")"
   ]
  },
  {
   "cell_type": "code",
   "execution_count": 3,
   "id": "fb0cc864",
   "metadata": {},
   "outputs": [],
   "source": [
    "import requests\n",
    "from bs4 import BeautifulSoup"
   ]
  },
  {
   "cell_type": "code",
   "execution_count": 4,
   "id": "57ebb2f3",
   "metadata": {},
   "outputs": [],
   "source": [
    "# Loading  Pandas library\n",
    "import pandas as pd"
   ]
  },
  {
   "cell_type": "code",
   "execution_count": 5,
   "id": "df4e2840",
   "metadata": {},
   "outputs": [],
   "source": [
    "# Reading the link\n",
    "df = pd.read_excel('C:\\\\Users\\\\acer\\\\Downloads\\\\E-commerce URL.xlsx', header=None)"
   ]
  },
  {
   "cell_type": "code",
   "execution_count": 52,
   "id": "29a43d14",
   "metadata": {},
   "outputs": [
    {
     "data": {
      "text/plain": [
       "0      https://shopee.sg/GS-GA100-Black-Gold-Men's-Fa...\n",
       "1      https://shopee.sg/Men's-Watch-with-LED-Electro...\n",
       "2      https://shopee.sg/Curved-Interface-Rubber-Stra...\n",
       "3      https://shopee.sg/%E3%80%90Free-Box%E3%80%91PA...\n",
       "4      https://shopee.sg/G-series-GA110-Black-Gold-Au...\n",
       "                             ...                        \n",
       "115    https://shopee.sg/MESIN-Brand-Women's-Watches-...\n",
       "116    https://shopee.sg/Foss1l-Women's-Watches-Chain...\n",
       "117    https://shopee.sg/Simple-Women-Korean-Alloy-Qu...\n",
       "118    https://shopee.sg/GC-Women-Luxury-Quartz-Watch...\n",
       "119    https://shopee.sg/Louiswill-Fashion-Ladies-Wat...\n",
       "Name: 0, Length: 120, dtype: object"
      ]
     },
     "execution_count": 52,
     "metadata": {},
     "output_type": "execute_result"
    }
   ],
   "source": [
    "# Showing all the links \n",
    "df[0]"
   ]
  },
  {
   "cell_type": "code",
   "execution_count": 6,
   "id": "6fa7cd83",
   "metadata": {},
   "outputs": [],
   "source": [
    "links = df[0]"
   ]
  },
  {
   "cell_type": "code",
   "execution_count": 11,
   "id": "80f1c065",
   "metadata": {},
   "outputs": [
    {
     "data": {
      "text/plain": [
       "\"https://shopee.sg/GS-GA100-Black-Gold-Men's-Fashion-Sports-Quartz-Watch-GA-100-LED-Automatic-Luminous-Waterproof-Watch-i.829923962.19743739633?sp_atk=183a4a2b-ff4e-46c0-8e81-9006bab65384&xptdk=183a4a2b-ff4e-46c0-8e81-9006bab65384\""
      ]
     },
     "execution_count": 11,
     "metadata": {},
     "output_type": "execute_result"
    }
   ],
   "source": [
    "links[0]"
   ]
  },
  {
   "cell_type": "code",
   "execution_count": 7,
   "id": "7c7381a6",
   "metadata": {},
   "outputs": [
    {
     "data": {
      "text/plain": [
       "120"
      ]
     },
     "execution_count": 7,
     "metadata": {},
     "output_type": "execute_result"
    }
   ],
   "source": [
    "# Total Links\n",
    "len(links)"
   ]
  },
  {
   "cell_type": "code",
   "execution_count": 18,
   "id": "8b5eb594",
   "metadata": {
    "scrolled": true
   },
   "outputs": [
    {
     "name": "stdout",
     "output_type": "stream",
     "text": [
      "Standard Express\n",
      "Standard Express,Standard Express - Collection Point,Standard Express - Pick Locker\n",
      "Standard Express\n",
      "Standard Express\n",
      "No product information avaliable on opening the link\n",
      "Standard Express,Standard Express - Collection Point\n",
      "Standard Express,Standard Express - Collection Point,Standard Express - Pick Locker\n",
      "No product information avaliable on opening the link\n",
      "Standard Express,Standard Express - Collection Point,Standard Express - Pick Locker\n",
      "Standard Express\n",
      "Standard Express\n",
      "Standard Express\n",
      "Standard Express,Standard Express - Collection Point\n",
      "Standard Express,Standard Express - Collection Point\n",
      "Standard Express,Standard Express - Collection Point,Standard Express - Pick Locker\n",
      "Standard Express,Standard Express - Collection Point,Standard Express - Pick Locker\n",
      "Standard Express,Standard Express - Collection Point,Standard Express - Pick Locker\n",
      "Standard Express,Standard Express - Collection Point,Standard Express - Pick Locker\n",
      "Standard Express,Standard Express - Collection Point,Standard Express - Pick Locker\n",
      "Standard Express,Standard Express - Collection Point,Standard Express - Pick Locker\n",
      "Standard Express,Standard Express - Collection Point,Standard Express - Pick Locker\n",
      "Standard Express\n",
      "Standard Express,Standard Express - Collection Point\n",
      "Standard Express,Standard Express - Sea Shipping,Standard Express - Collection Point,Standard Express - Pick Locker\n",
      "No product information avaliable on opening the link\n",
      "Standard Express,Standard Express - Collection Point,Standard Express - Pick Locker\n",
      "Standard Express,Standard Express - Collection Point\n",
      "Standard Express\n",
      "No product information avaliable on opening the link\n",
      "No product information avaliable on opening the link\n",
      "Standard Express,Standard Express - Collection Point,Standard Express - Korea,Standard Express - Pick Locker\n",
      "Standard Express,Standard Express - Collection Point\n",
      "No product information avaliable on opening the link\n",
      "No product information avaliable on opening the link\n",
      "Standard Express,Standard Express - Collection Point,Standard Express - Pick Locker\n",
      "Standard Express,Standard Express - Collection Point,Standard Express - Pick Locker\n",
      "Standard Express,Standard Express - Collection Point,Standard Express - Pick Locker\n",
      "No product information avaliable on opening the link\n",
      "Standard Express,Standard Express - Collection Point,Standard Express - Pick Locker\n",
      "Standard Express,Standard Express - Collection Point,Standard Express - Pick Locker\n",
      "No product information avaliable on opening the link\n",
      "Standard Express,Standard Express - Collection Point,Standard Express - Pick Locker\n",
      "Standard Express,Standard Express - Collection Point,Standard Express - Pick Locker\n",
      "Standard Express,Standard Express - Collection Point,Standard Express - Pick Locker\n",
      "Standard Express\n",
      "Standard Express,Standard Express - Collection Point,Standard Express - Pick Locker\n",
      "No product information avaliable on opening the link\n",
      "Standard Express,Standard Express - Collection Point,Standard Express - Pick Locker\n",
      "Standard Express,Standard Express - Collection Point,Standard Express - Pick Locker\n",
      "Standard Express,Standard Express - Collection Point\n",
      "Standard Express,Standard Express - Collection Point,Standard Express - Pick Locker\n",
      "Standard Express,Standard Express - Collection Point\n",
      "No product information avaliable on opening the link\n",
      "Standard Express,Standard Express - Collection Point\n",
      "No product information avaliable on opening the link\n",
      "Standard Express\n",
      "Standard Express\n",
      "Standard Express,Standard Express - Collection Point\n",
      "Standard Express\n",
      "Standard Express\n",
      "Standard Express,Standard Express - Collection Point\n",
      "Standard Express\n",
      "Standard Express,Standard Express - Pick Locker\n",
      "Standard Express,Standard Express - Collection Point,Standard Express - Pick Locker\n",
      "Standard Express,Standard Express - Collection Point,Standard Express - Pick Locker\n",
      "Standard Express,Standard Express - Pick Locker\n",
      "Standard Express,Standard Express - Collection Point\n",
      "No product information avaliable on opening the link\n",
      "Standard Express,Standard Express - Collection Point,Standard Express - Pick Locker\n",
      "Standard Express,Standard Express - Collection Point\n",
      "Standard Express,Standard Express - Collection Point,Standard Express - Pick Locker\n",
      "Standard Express\n",
      "Standard Express\n",
      "Standard Express,Standard Express - Collection Point,Standard Express - Pick Locker\n",
      "Standard Express,Standard Express - Collection Point,Standard Express - Pick Locker\n",
      "Standard Express,Standard Express - Collection Point,Standard Express - Pick Locker\n",
      "Standard Express,Standard Express - Collection Point,Standard Express - Pick Locker\n",
      "Standard Express,Standard Express - Collection Point\n",
      "Standard Express\n",
      "Standard Express\n",
      "\n",
      "No product information avaliable on opening the link\n",
      "Standard Express,Standard Express - Collection Point\n",
      "Standard Express,Standard Express - Pick Locker\n",
      "Standard Express,Standard Express - Collection Point,Standard Express - Pick Locker\n",
      "Standard Express,Standard Express - Collection Point,Standard Express - Pick Locker\n",
      "Standard Express,Standard Express - Pick Locker\n",
      "Standard Express,Standard Express - Pick Locker\n",
      "Standard Express,Standard Express - Collection Point\n",
      "Standard Express,Standard Express - Collection Point,Standard Express - Pick Locker\n",
      "Standard Express,Standard Express - Collection Point,Standard Express - Pick Locker\n",
      "No product information avaliable on opening the link\n",
      "\n",
      "Standard Express\n",
      "Standard Express\n",
      "Standard Express,Standard Express - Collection Point\n",
      "No product information avaliable on opening the link\n",
      "Standard Express,Standard Express - Collection Point\n",
      "Standard Express\n",
      "No product information avaliable on opening the link\n",
      "Standard Express\n",
      "Standard Express,Standard Express - Collection Point\n",
      "Standard Express\n",
      "Standard Express,Standard Express - Collection Point\n",
      "Standard Express,Standard Express - Collection Point\n",
      "No product information avaliable on opening the link\n",
      "No product information avaliable on opening the link\n",
      "Standard Express,Standard Express - Collection Point,Standard Express - Pick Locker\n",
      "Standard Express,Standard Express - Collection Point\n",
      "Standard Express,Standard Express - Collection Point,Standard Express - Pick Locker\n",
      "Standard Express\n",
      "Standard Express,Standard Express - Collection Point,Standard Express - Pick Locker\n",
      "Standard Express\n",
      "No product information avaliable on opening the link\n",
      "Standard Express,Standard Express - Collection Point\n",
      "Standard Express,Standard Express - Collection Point\n",
      "Standard Express,Standard Express - Collection Point\n",
      "Standard Express,Standard Express - Collection Point,Standard Express - Pick Locker\n",
      "Standard Express,Standard Express - Collection Point\n",
      "No product information avaliable on opening the link\n"
     ]
    }
   ],
   "source": [
    "# Code for scraping the data from the links\n",
    "\n",
    "page_no =1\n",
    "for  i in links:\n",
    "    \n",
    "    try:\n",
    "    \n",
    "        driver.get(i)\n",
    "#         print(f\"link {page_no} {i} \")\n",
    "        page_no+=1\n",
    "        \n",
    "        time.sleep(6)\n",
    "\n",
    "\n",
    "        Task2 = driver.find_element(By.XPATH, \"(//div[@class='shopee-drawer'])[2]\")\n",
    "        Task2.click()\n",
    "        time.sleep(2)\n",
    "        Task3 = driver.find_element(By.XPATH, \"//div[@class='shopee-drawer__contents']\").text\n",
    "        time.sleep(2)\n",
    "        soup = BeautifulSoup(driver.page_source, 'lxml')\n",
    "        time.sleep(2)\n",
    "\n",
    "        data = soup.find('div',{'class':'shopee-drawer__contents'}).find_all('div',{'class':'AAaUS1'})\n",
    "        data_1 = [ i.text for i in data]\n",
    "        x = \",\".join(data_1)\n",
    "        print(x)\n",
    "        \n",
    "    except Exception as e:\n",
    "        page_no+=1\n",
    "        print('No product information avaliable on opening the link')"
   ]
  },
  {
   "cell_type": "code",
   "execution_count": null,
   "id": "781aa105",
   "metadata": {},
   "outputs": [],
   "source": []
  }
 ],
 "metadata": {
  "kernelspec": {
   "display_name": "Python 3 (ipykernel)",
   "language": "python",
   "name": "python3"
  },
  "language_info": {
   "codemirror_mode": {
    "name": "ipython",
    "version": 3
   },
   "file_extension": ".py",
   "mimetype": "text/x-python",
   "name": "python",
   "nbconvert_exporter": "python",
   "pygments_lexer": "ipython3",
   "version": "3.9.12"
  }
 },
 "nbformat": 4,
 "nbformat_minor": 5
}
