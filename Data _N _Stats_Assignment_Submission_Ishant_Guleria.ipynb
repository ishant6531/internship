{
 "cells": [
  {
   "cell_type": "markdown",
   "id": "72b3004e",
   "metadata": {},
   "source": [
    "# Problem Statement :- 1"
   ]
  },
  {
   "cell_type": "raw",
   "id": "1a8a33ab",
   "metadata": {},
   "source": [
    "Write a Python program to download IMDB's top 50 data (movie name, Initial release, director name and stars "
   ]
  },
  {
   "cell_type": "code",
   "execution_count": 1,
   "id": "183e8de8",
   "metadata": {},
   "outputs": [],
   "source": [
    "# Loading  Necessary  library \n",
    "\n",
    "import numpy as np\n",
    "import pandas as pd\n",
    "from  selenium import webdriver\n",
    "from time import sleep\n",
    "import warnings\n",
    "warnings.filterwarnings('ignore')\n",
    "import time\n",
    "import string\n",
    "from selenium.common.exceptions import StaleElementReferenceException, NoSuchElementException\n",
    "from datetime import date\n",
    "from bs4 import BeautifulSoup\n",
    "from selenium.webdriver.support.ui import WebDriverWait\n",
    "from selenium.webdriver.support import expected_conditions as EC\n",
    "from selenium.webdriver.common.by import By"
   ]
  },
  {
   "cell_type": "code",
   "execution_count": 2,
   "id": "1dd3fa8b",
   "metadata": {},
   "outputs": [],
   "source": [
    "# Loading  selenium web driver \n",
    "from selenium import webdriver\n",
    "from selenium.webdriver.chrome.options import Options"
   ]
  },
  {
   "cell_type": "code",
   "execution_count": 3,
   "id": "cf6eafe0",
   "metadata": {},
   "outputs": [],
   "source": [
    "driver = webdriver.Chrome( executable_path=r'D:\\data science\\Ineuron\\chromedriver\\chromedriver.exe')"
   ]
  },
  {
   "cell_type": "code",
   "execution_count": 4,
   "id": "5d1e8788",
   "metadata": {},
   "outputs": [],
   "source": [
    "#  initialize empty lists where you'll store your data\n",
    "Movie_Name = []\n",
    "Initial_release = []\n",
    "Director_Name = []\n",
    "Stars = []"
   ]
  },
  {
   "cell_type": "code",
   "execution_count": 5,
   "id": "58cde98f",
   "metadata": {},
   "outputs": [],
   "source": [
    "# Scraping  Data from  website \n",
    "def data_sci(url):\n",
    "    driver.get(url)\n",
    "    \n",
    "    time.sleep(2)\n",
    "       \n",
    "    try:\n",
    "        Task1 =driver.find_elements_by_xpath(\"//h3/a\")\n",
    "        for i in Task1:\n",
    "            Movie_Name.append(i.text)\n",
    "    except:\n",
    "            Movie_Name.append('  ')\n",
    "\n",
    "    try:\n",
    "        Task1 =driver.find_elements_by_xpath(\"//h3/span[@class='lister-item-year text-muted unbold']\")\n",
    "        for i in Task1:\n",
    "             Initial_release.append(i.text)\n",
    "    except:\n",
    "             Initial_release.append('  ')\n",
    "\n",
    "    try:\n",
    "        Task1 =driver.find_elements_by_xpath(\"//p[@class='text-muted text-small']/a[1]\")\n",
    "        for i in Task1:\n",
    "              Director_Name.append(i.text)\n",
    "    except:\n",
    "              Director_Name.append('  ')\n",
    "\n",
    "    try:\n",
    "        Task1 =driver.find_elements_by_xpath(\"//div[@class='ipl-rating-star small']/span[@class='ipl-rating-star__rating']\")\n",
    "        for i in Task1:\n",
    "              Stars.append(i.text)\n",
    "    except:\n",
    "              Stars.append('  ')\n",
    "                                \n",
    "\n",
    "# Calling Function\n",
    "data_sci('https://www.imdb.com/list/ls055386972/')"
   ]
  },
  {
   "cell_type": "code",
   "execution_count": 6,
   "id": "f69571f5",
   "metadata": {},
   "outputs": [],
   "source": [
    "x = []\n",
    "for i  in Initial_release:\n",
    "    x.append(i.strip('()'))"
   ]
  },
  {
   "cell_type": "code",
   "execution_count": 8,
   "id": "f6f81036",
   "metadata": {},
   "outputs": [
    {
     "data": {
      "text/html": [
       "<div>\n",
       "<style scoped>\n",
       "    .dataframe tbody tr th:only-of-type {\n",
       "        vertical-align: middle;\n",
       "    }\n",
       "\n",
       "    .dataframe tbody tr th {\n",
       "        vertical-align: top;\n",
       "    }\n",
       "\n",
       "    .dataframe thead th {\n",
       "        text-align: right;\n",
       "    }\n",
       "</style>\n",
       "<table border=\"1\" class=\"dataframe\">\n",
       "  <thead>\n",
       "    <tr style=\"text-align: right;\">\n",
       "      <th></th>\n",
       "      <th>Movie Name</th>\n",
       "      <th>Initial Release</th>\n",
       "      <th>Director Name</th>\n",
       "      <th>Stars</th>\n",
       "    </tr>\n",
       "  </thead>\n",
       "  <tbody>\n",
       "    <tr>\n",
       "      <th>0</th>\n",
       "      <td>The Godfather</td>\n",
       "      <td>1972</td>\n",
       "      <td>Francis Ford Coppola</td>\n",
       "      <td>9.2</td>\n",
       "    </tr>\n",
       "    <tr>\n",
       "      <th>1</th>\n",
       "      <td>Schindler's List</td>\n",
       "      <td>1993</td>\n",
       "      <td>Steven Spielberg</td>\n",
       "      <td>9</td>\n",
       "    </tr>\n",
       "    <tr>\n",
       "      <th>2</th>\n",
       "      <td>12 Angry Men</td>\n",
       "      <td>1957</td>\n",
       "      <td>Sidney Lumet</td>\n",
       "      <td>9</td>\n",
       "    </tr>\n",
       "    <tr>\n",
       "      <th>3</th>\n",
       "      <td>Life Is Beautiful</td>\n",
       "      <td>1997</td>\n",
       "      <td>Roberto Benigni</td>\n",
       "      <td>8.6</td>\n",
       "    </tr>\n",
       "    <tr>\n",
       "      <th>4</th>\n",
       "      <td>The Good, the Bad and the Ugly</td>\n",
       "      <td>1966</td>\n",
       "      <td>Sergio Leone</td>\n",
       "      <td>8.8</td>\n",
       "    </tr>\n",
       "    <tr>\n",
       "      <th>5</th>\n",
       "      <td>The Shawshank Redemption</td>\n",
       "      <td>1994</td>\n",
       "      <td>Frank Darabont</td>\n",
       "      <td>9.3</td>\n",
       "    </tr>\n",
       "    <tr>\n",
       "      <th>6</th>\n",
       "      <td>The Pursuit of Happyness</td>\n",
       "      <td>2006</td>\n",
       "      <td>Gabriele Muccino</td>\n",
       "      <td>8</td>\n",
       "    </tr>\n",
       "    <tr>\n",
       "      <th>7</th>\n",
       "      <td>Seven Samurai</td>\n",
       "      <td>1954</td>\n",
       "      <td>Akira Kurosawa</td>\n",
       "      <td>8.6</td>\n",
       "    </tr>\n",
       "    <tr>\n",
       "      <th>8</th>\n",
       "      <td>The Intouchables</td>\n",
       "      <td>2011</td>\n",
       "      <td>Olivier Nakache</td>\n",
       "      <td>8.5</td>\n",
       "    </tr>\n",
       "    <tr>\n",
       "      <th>9</th>\n",
       "      <td>Central Station</td>\n",
       "      <td>1998</td>\n",
       "      <td>Walter Salles</td>\n",
       "      <td>8</td>\n",
       "    </tr>\n",
       "  </tbody>\n",
       "</table>\n",
       "</div>"
      ],
      "text/plain": [
       "                      Movie Name  Initial Release         Director Name Stars\n",
       "0                   The Godfather            1972  Francis Ford Coppola   9.2\n",
       "1                Schindler's List            1993      Steven Spielberg     9\n",
       "2                    12 Angry Men            1957          Sidney Lumet     9\n",
       "3               Life Is Beautiful            1997       Roberto Benigni   8.6\n",
       "4  The Good, the Bad and the Ugly            1966          Sergio Leone   8.8\n",
       "5        The Shawshank Redemption            1994        Frank Darabont   9.3\n",
       "6        The Pursuit of Happyness            2006      Gabriele Muccino     8\n",
       "7                   Seven Samurai            1954        Akira Kurosawa   8.6\n",
       "8                The Intouchables            2011       Olivier Nakache   8.5\n",
       "9                 Central Station            1998         Walter Salles     8"
      ]
     },
     "execution_count": 8,
     "metadata": {},
     "output_type": "execute_result"
    }
   ],
   "source": [
    "# Final  Data of IMBD Top 50 movies \n",
    "Top_50_Movies_Data = pd.DataFrame({'Movie Name ' : Movie_Name   ,  'Initial Release' : x , 'Director Name'  : Director_Name , 'Stars' : Stars }  )\n",
    "Top_50_Movies_Data.head(10)"
   ]
  },
  {
   "cell_type": "code",
   "execution_count": 11,
   "id": "009858b6",
   "metadata": {},
   "outputs": [
    {
     "name": "stdout",
     "output_type": "stream",
     "text": [
      "Length of Database  Top_50_Movies_Data is :-  50\n"
     ]
    }
   ],
   "source": [
    "# Checking  the length of database \n",
    "print(f'Length of Database  Top_50_Movies_Data is :-  {len(Top_50_Movies_Data)}')"
   ]
  },
  {
   "cell_type": "code",
   "execution_count": 12,
   "id": "6c7a29d6",
   "metadata": {},
   "outputs": [],
   "source": [
    "# Saving  the data is csv format\n",
    "Top_50_Movies_Data.to_csv(\"IMBD_Top_50_Movies.csv\")"
   ]
  },
  {
   "cell_type": "markdown",
   "id": "75d74d51",
   "metadata": {},
   "source": [
    "# Problem Statement :- 2 "
   ]
  },
  {
   "cell_type": "markdown",
   "id": "4746aba3",
   "metadata": {},
   "source": [
    "Create a scraper for flipkart that will scrape data for search results\n",
    "(atleast up to page 2 if available). For example: search for “mobile”\n",
    "keyword on flipkart and scrape the following parameters from the search\n",
    "results.\n",
    "1) Title\n",
    "2) Ratings\n",
    "3) Price\n",
    "4) URL of that item"
   ]
  },
  {
   "cell_type": "code",
   "execution_count": 16,
   "id": "43783283",
   "metadata": {},
   "outputs": [],
   "source": [
    "driver = webdriver.Chrome( executable_path=r'D:\\data science\\Ineuron\\chromedriver\\chromedriver.exe')"
   ]
  },
  {
   "cell_type": "code",
   "execution_count": 17,
   "id": "e98b6b79",
   "metadata": {},
   "outputs": [],
   "source": [
    "#Giving name of the website we have to  scrap\n",
    "url = \"https://www.flipkart.com/\"\n",
    "\n",
    "# Getting Url\n",
    "driver.get(url)"
   ]
  },
  {
   "cell_type": "code",
   "execution_count": null,
   "id": "9c7c673c",
   "metadata": {},
   "outputs": [],
   "source": [
    "time.sleep(3)"
   ]
  },
  {
   "cell_type": "code",
   "execution_count": 18,
   "id": "ef76c713",
   "metadata": {},
   "outputs": [],
   "source": [
    "\n",
    "Task1 =driver.find_element_by_xpath(\"//button[@class='_2KpZ6l _2doB4z']\")\n",
    "Task1.click()"
   ]
  },
  {
   "cell_type": "code",
   "execution_count": null,
   "id": "80b92af4",
   "metadata": {},
   "outputs": [],
   "source": [
    "time.sleep(3)"
   ]
  },
  {
   "cell_type": "code",
   "execution_count": 20,
   "id": "d0109ff1",
   "metadata": {},
   "outputs": [],
   "source": [
    "# Entering Mobile keyword \n",
    "Task2 = driver.find_element_by_xpath(\"//input[@class='_3704LK']\")\n",
    "Task2.send_keys('Mobile')"
   ]
  },
  {
   "cell_type": "code",
   "execution_count": null,
   "id": "a5a7c094",
   "metadata": {},
   "outputs": [],
   "source": [
    "time.sleep(3)"
   ]
  },
  {
   "cell_type": "code",
   "execution_count": 21,
   "id": "6ef44568",
   "metadata": {},
   "outputs": [],
   "source": [
    "Task3 = driver.find_element_by_xpath(\"//button[@class='L0Z3Pu']\")\n",
    "Task3.click()"
   ]
  },
  {
   "cell_type": "code",
   "execution_count": 51,
   "id": "c9d37f30",
   "metadata": {},
   "outputs": [],
   "source": [
    "#  initialize empty lists where we will store your data\n",
    "title = []\n",
    "ratings = []\n",
    "price = []\n",
    "url_of_Item = []"
   ]
  },
  {
   "cell_type": "code",
   "execution_count": 52,
   "id": "a47b5ebe",
   "metadata": {},
   "outputs": [],
   "source": [
    "# Scraping the data \n",
    "\n",
    "    start_page=1\n",
    "    end_page=11\n",
    "    \n",
    "    \n",
    "    for page in range(start_page,end_page):\n",
    "                   \n",
    "                    time.sleep(4)\n",
    "\n",
    "                    try:\n",
    "                        Task1 =driver.find_elements_by_xpath(\"//div[@class='_4rR01T']\")\n",
    "                        for i in Task1[:23]:\n",
    "                            title.append(i.text)\n",
    "                    except:\n",
    "                            title.append('  ')\n",
    "\n",
    "                    try:\n",
    "                        Task1 =driver.find_elements_by_xpath(\"//div[@class='_3LWZlK']\")\n",
    "                        for i in Task1[:23]:\n",
    "                             ratings.append(i.text)\n",
    "                    except:\n",
    "                             ratings.append('  ')\n",
    "\n",
    "                    try:\n",
    "                        Task1 =driver.find_elements_by_xpath(\"//div[@class='_30jeq3 _1_WHN1']\")\n",
    "                        for i in Task1[:23]:\n",
    "                              price.append(i.text)\n",
    "                    except:\n",
    "                              price.append('  ')\n",
    "        \n",
    "                    urls=driver.find_elements_by_xpath(\"//a[@class='_1fQZEK']\")\n",
    "\n",
    "                    for i in urls[:23]:\n",
    "                         url_of_Item.append(i.get_attribute('href'))        \n",
    "                    \n",
    "                    \n",
    "                                     \n",
    "                    time.sleep(3)\n",
    "                    nxt_button1=driver.find_element_by_xpath(\"//span[text()='Next']\").click()\n",
    "            "
   ]
  },
  {
   "cell_type": "code",
   "execution_count": 53,
   "id": "2accff94",
   "metadata": {},
   "outputs": [
    {
     "name": "stdout",
     "output_type": "stream",
     "text": [
      "230\n",
      "230\n",
      "230\n",
      "230\n"
     ]
    }
   ],
   "source": [
    "# Checking  length of each variable\n",
    "print(len(title))\n",
    "print(len(ratings))\n",
    "print(len(price))\n",
    "print(len(url_of_Item))"
   ]
  },
  {
   "cell_type": "code",
   "execution_count": 54,
   "id": "8b1b49d2",
   "metadata": {},
   "outputs": [
    {
     "data": {
      "text/html": [
       "<div>\n",
       "<style scoped>\n",
       "    .dataframe tbody tr th:only-of-type {\n",
       "        vertical-align: middle;\n",
       "    }\n",
       "\n",
       "    .dataframe tbody tr th {\n",
       "        vertical-align: top;\n",
       "    }\n",
       "\n",
       "    .dataframe thead th {\n",
       "        text-align: right;\n",
       "    }\n",
       "</style>\n",
       "<table border=\"1\" class=\"dataframe\">\n",
       "  <thead>\n",
       "    <tr style=\"text-align: right;\">\n",
       "      <th></th>\n",
       "      <th>Mobile Name</th>\n",
       "      <th>Rating Of Mobile</th>\n",
       "      <th>Price</th>\n",
       "      <th>link</th>\n",
       "    </tr>\n",
       "  </thead>\n",
       "  <tbody>\n",
       "    <tr>\n",
       "      <th>0</th>\n",
       "      <td>APPLE iPhone 11 (Black, 128 GB)</td>\n",
       "      <td>4.6</td>\n",
       "      <td>₹42,999</td>\n",
       "      <td>https://www.flipkart.com/apple-iphone-11-black...</td>\n",
       "    </tr>\n",
       "    <tr>\n",
       "      <th>1</th>\n",
       "      <td>OPPO K10 (Blue Flame, 128 GB)</td>\n",
       "      <td>4.4</td>\n",
       "      <td>₹13,990</td>\n",
       "      <td>https://www.flipkart.com/oppo-k10-blue-flame-1...</td>\n",
       "    </tr>\n",
       "    <tr>\n",
       "      <th>2</th>\n",
       "      <td>OPPO K10 (Black Carbon, 128 GB)</td>\n",
       "      <td>4.4</td>\n",
       "      <td>₹13,990</td>\n",
       "      <td>https://www.flipkart.com/oppo-k10-black-carbon...</td>\n",
       "    </tr>\n",
       "    <tr>\n",
       "      <th>3</th>\n",
       "      <td>POCO C31 (Royal Blue, 64 GB)</td>\n",
       "      <td>4.3</td>\n",
       "      <td>₹7,999</td>\n",
       "      <td>https://www.flipkart.com/poco-c31-royal-blue-6...</td>\n",
       "    </tr>\n",
       "    <tr>\n",
       "      <th>4</th>\n",
       "      <td>SAMSUNG Galaxy F22 (Denim Black, 128 GB)</td>\n",
       "      <td>4.3</td>\n",
       "      <td>₹12,499</td>\n",
       "      <td>https://www.flipkart.com/samsung-galaxy-f22-de...</td>\n",
       "    </tr>\n",
       "    <tr>\n",
       "      <th>5</th>\n",
       "      <td>realme 9 (Stargaze White, 128 GB)</td>\n",
       "      <td>4.4</td>\n",
       "      <td>₹16,999</td>\n",
       "      <td>https://www.flipkart.com/realme-9-stargaze-whi...</td>\n",
       "    </tr>\n",
       "    <tr>\n",
       "      <th>6</th>\n",
       "      <td>APPLE iPhone 11 (White, 128 GB)</td>\n",
       "      <td>4.6</td>\n",
       "      <td>₹43,999</td>\n",
       "      <td>https://www.flipkart.com/apple-iphone-11-white...</td>\n",
       "    </tr>\n",
       "    <tr>\n",
       "      <th>7</th>\n",
       "      <td>realme 9 (Meteor Black, 128 GB)</td>\n",
       "      <td>4.4</td>\n",
       "      <td>₹16,999</td>\n",
       "      <td>https://www.flipkart.com/realme-9-meteor-black...</td>\n",
       "    </tr>\n",
       "    <tr>\n",
       "      <th>8</th>\n",
       "      <td>vivo T1X (Gravity Black, 64 GB)</td>\n",
       "      <td>4.5</td>\n",
       "      <td>₹11,999</td>\n",
       "      <td>https://www.flipkart.com/vivo-t1x-gravity-blac...</td>\n",
       "    </tr>\n",
       "    <tr>\n",
       "      <th>9</th>\n",
       "      <td>vivo T1X (Space Blue, 64 GB)</td>\n",
       "      <td>4.5</td>\n",
       "      <td>₹11,999</td>\n",
       "      <td>https://www.flipkart.com/vivo-t1x-space-blue-6...</td>\n",
       "    </tr>\n",
       "    <tr>\n",
       "      <th>10</th>\n",
       "      <td>SAMSUNG Galaxy F22 (Denim Blue, 128 GB)</td>\n",
       "      <td>4.3</td>\n",
       "      <td>₹12,499</td>\n",
       "      <td>https://www.flipkart.com/samsung-galaxy-f22-de...</td>\n",
       "    </tr>\n",
       "    <tr>\n",
       "      <th>11</th>\n",
       "      <td>SAMSUNG Galaxy F22 (Denim Blue, 64 GB)</td>\n",
       "      <td>4.3</td>\n",
       "      <td>₹10,499</td>\n",
       "      <td>https://www.flipkart.com/samsung-galaxy-f22-de...</td>\n",
       "    </tr>\n",
       "    <tr>\n",
       "      <th>12</th>\n",
       "      <td>realme C30s (Stripe Blue, 32 GB)</td>\n",
       "      <td>4.3</td>\n",
       "      <td>₹6,999</td>\n",
       "      <td>https://www.flipkart.com/realme-c30s-stripe-bl...</td>\n",
       "    </tr>\n",
       "    <tr>\n",
       "      <th>13</th>\n",
       "      <td>APPLE iPhone 11 (Purple, 128 GB)</td>\n",
       "      <td>4.6</td>\n",
       "      <td>₹42,999</td>\n",
       "      <td>https://www.flipkart.com/apple-iphone-11-purpl...</td>\n",
       "    </tr>\n",
       "    <tr>\n",
       "      <th>14</th>\n",
       "      <td>vivo T1X (Gravity Black, 128 GB)</td>\n",
       "      <td>4.5</td>\n",
       "      <td>₹12,999</td>\n",
       "      <td>https://www.flipkart.com/vivo-t1x-gravity-blac...</td>\n",
       "    </tr>\n",
       "    <tr>\n",
       "      <th>15</th>\n",
       "      <td>vivo T1X (Space Blue, 128 GB)</td>\n",
       "      <td>4.5</td>\n",
       "      <td>₹12,999</td>\n",
       "      <td>https://www.flipkart.com/vivo-t1x-space-blue-1...</td>\n",
       "    </tr>\n",
       "    <tr>\n",
       "      <th>16</th>\n",
       "      <td>SAMSUNG Galaxy F22 (Denim Black, 64 GB)</td>\n",
       "      <td>4.3</td>\n",
       "      <td>₹10,499</td>\n",
       "      <td>https://www.flipkart.com/samsung-galaxy-f22-de...</td>\n",
       "    </tr>\n",
       "    <tr>\n",
       "      <th>17</th>\n",
       "      <td>APPLE iPhone 13 (Midnight, 128 GB)</td>\n",
       "      <td>4.7</td>\n",
       "      <td>₹62,999</td>\n",
       "      <td>https://www.flipkart.com/apple-iphone-13-midni...</td>\n",
       "    </tr>\n",
       "    <tr>\n",
       "      <th>18</th>\n",
       "      <td>MOTOROLA e40 (Carbon Gray, 64 GB)</td>\n",
       "      <td>4.1</td>\n",
       "      <td>₹8,599</td>\n",
       "      <td>https://www.flipkart.com/motorola-e40-carbon-g...</td>\n",
       "    </tr>\n",
       "    <tr>\n",
       "      <th>19</th>\n",
       "      <td>realme 9 (Stargaze White, 128 GB)</td>\n",
       "      <td>4.4</td>\n",
       "      <td>₹17,999</td>\n",
       "      <td>https://www.flipkart.com/realme-9-stargaze-whi...</td>\n",
       "    </tr>\n",
       "  </tbody>\n",
       "</table>\n",
       "</div>"
      ],
      "text/plain": [
       "                                Mobile Name  Rating Of Mobile    Price  \\\n",
       "0            APPLE iPhone 11 (Black, 128 GB)              4.6  ₹42,999   \n",
       "1              OPPO K10 (Blue Flame, 128 GB)              4.4  ₹13,990   \n",
       "2            OPPO K10 (Black Carbon, 128 GB)              4.4  ₹13,990   \n",
       "3               POCO C31 (Royal Blue, 64 GB)              4.3   ₹7,999   \n",
       "4   SAMSUNG Galaxy F22 (Denim Black, 128 GB)              4.3  ₹12,499   \n",
       "5          realme 9 (Stargaze White, 128 GB)              4.4  ₹16,999   \n",
       "6            APPLE iPhone 11 (White, 128 GB)              4.6  ₹43,999   \n",
       "7            realme 9 (Meteor Black, 128 GB)              4.4  ₹16,999   \n",
       "8            vivo T1X (Gravity Black, 64 GB)              4.5  ₹11,999   \n",
       "9               vivo T1X (Space Blue, 64 GB)              4.5  ₹11,999   \n",
       "10   SAMSUNG Galaxy F22 (Denim Blue, 128 GB)              4.3  ₹12,499   \n",
       "11    SAMSUNG Galaxy F22 (Denim Blue, 64 GB)              4.3  ₹10,499   \n",
       "12          realme C30s (Stripe Blue, 32 GB)              4.3   ₹6,999   \n",
       "13          APPLE iPhone 11 (Purple, 128 GB)              4.6  ₹42,999   \n",
       "14          vivo T1X (Gravity Black, 128 GB)              4.5  ₹12,999   \n",
       "15             vivo T1X (Space Blue, 128 GB)              4.5  ₹12,999   \n",
       "16   SAMSUNG Galaxy F22 (Denim Black, 64 GB)              4.3  ₹10,499   \n",
       "17        APPLE iPhone 13 (Midnight, 128 GB)              4.7  ₹62,999   \n",
       "18         MOTOROLA e40 (Carbon Gray, 64 GB)              4.1   ₹8,599   \n",
       "19         realme 9 (Stargaze White, 128 GB)              4.4  ₹17,999   \n",
       "\n",
       "                                                 link  \n",
       "0   https://www.flipkart.com/apple-iphone-11-black...  \n",
       "1   https://www.flipkart.com/oppo-k10-blue-flame-1...  \n",
       "2   https://www.flipkart.com/oppo-k10-black-carbon...  \n",
       "3   https://www.flipkart.com/poco-c31-royal-blue-6...  \n",
       "4   https://www.flipkart.com/samsung-galaxy-f22-de...  \n",
       "5   https://www.flipkart.com/realme-9-stargaze-whi...  \n",
       "6   https://www.flipkart.com/apple-iphone-11-white...  \n",
       "7   https://www.flipkart.com/realme-9-meteor-black...  \n",
       "8   https://www.flipkart.com/vivo-t1x-gravity-blac...  \n",
       "9   https://www.flipkart.com/vivo-t1x-space-blue-6...  \n",
       "10  https://www.flipkart.com/samsung-galaxy-f22-de...  \n",
       "11  https://www.flipkart.com/samsung-galaxy-f22-de...  \n",
       "12  https://www.flipkart.com/realme-c30s-stripe-bl...  \n",
       "13  https://www.flipkart.com/apple-iphone-11-purpl...  \n",
       "14  https://www.flipkart.com/vivo-t1x-gravity-blac...  \n",
       "15  https://www.flipkart.com/vivo-t1x-space-blue-1...  \n",
       "16  https://www.flipkart.com/samsung-galaxy-f22-de...  \n",
       "17  https://www.flipkart.com/apple-iphone-13-midni...  \n",
       "18  https://www.flipkart.com/motorola-e40-carbon-g...  \n",
       "19  https://www.flipkart.com/realme-9-stargaze-whi...  "
      ]
     },
     "execution_count": 54,
     "metadata": {},
     "output_type": "execute_result"
    }
   ],
   "source": [
    "# Final  Mobile data \n",
    "Mobile_Data = pd.DataFrame({'Mobile Name ' : title   ,  'Rating Of Mobile' : ratings , 'Price'  : price , 'link' : url_of_Item }  )\n",
    "Mobile_Data.head(20)"
   ]
  },
  {
   "cell_type": "code",
   "execution_count": 56,
   "id": "a3baac50",
   "metadata": {},
   "outputs": [
    {
     "name": "stdout",
     "output_type": "stream",
     "text": [
      "Length of Mobile_Data  :- 230\n"
     ]
    }
   ],
   "source": [
    "# Checking Length of Database  \n",
    "print(f'Length of Mobile_Data  :- {len(Mobile_Data)}')"
   ]
  },
  {
   "cell_type": "code",
   "execution_count": 57,
   "id": "1be01713",
   "metadata": {},
   "outputs": [],
   "source": [
    "# Saving  the data is csv format\n",
    "Mobile_Data.to_csv(\"flipkart_Mobile_data.csv\")"
   ]
  },
  {
   "cell_type": "code",
   "execution_count": null,
   "id": "e0e9fb22",
   "metadata": {},
   "outputs": [],
   "source": []
  },
  {
   "cell_type": "markdown",
   "id": "21636332",
   "metadata": {},
   "source": [
    "# *** End ***"
   ]
  },
  {
   "cell_type": "code",
   "execution_count": null,
   "id": "99da8a46",
   "metadata": {},
   "outputs": [],
   "source": []
  }
 ],
 "metadata": {
  "kernelspec": {
   "display_name": "Python 3 (ipykernel)",
   "language": "python",
   "name": "python3"
  },
  "language_info": {
   "codemirror_mode": {
    "name": "ipython",
    "version": 3
   },
   "file_extension": ".py",
   "mimetype": "text/x-python",
   "name": "python",
   "nbconvert_exporter": "python",
   "pygments_lexer": "ipython3",
   "version": "3.7.13"
  }
 },
 "nbformat": 4,
 "nbformat_minor": 5
}
